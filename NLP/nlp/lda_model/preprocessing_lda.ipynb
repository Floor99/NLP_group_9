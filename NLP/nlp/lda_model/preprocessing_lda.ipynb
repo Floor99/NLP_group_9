{
 "cells": [
  {
   "cell_type": "markdown",
   "metadata": {},
   "source": [
    "### __Import Packages__"
   ]
  },
  {
   "cell_type": "code",
   "execution_count": 4,
   "metadata": {},
   "outputs": [
    {
     "name": "stdout",
     "output_type": "stream",
     "text": [
      "The autoreload extension is already loaded. To reload it, use:\n",
      "  %reload_ext autoreload\n"
     ]
    }
   ],
   "source": [
    "%load_ext autoreload\n",
    "%autoreload 2"
   ]
  },
  {
   "cell_type": "code",
   "execution_count": 9,
   "metadata": {},
   "outputs": [],
   "source": [
    "import pandas as pd\n",
    "import numpy as np\n",
    "from nltk.tokenize import word_tokenize\n",
    "from nltk.corpus import stopwords\n",
    "import os"
   ]
  },
  {
   "cell_type": "code",
   "execution_count": 6,
   "metadata": {},
   "outputs": [],
   "source": [
    "from nlp.lda_model.preprocessing_functions_lda import *"
   ]
  },
  {
   "cell_type": "markdown",
   "metadata": {},
   "source": [
    "### __Load Data__"
   ]
  },
  {
   "cell_type": "code",
   "execution_count": 10,
   "metadata": {},
   "outputs": [],
   "source": [
    "os.chdir(\"../\")"
   ]
  },
  {
   "cell_type": "code",
   "execution_count": 11,
   "metadata": {},
   "outputs": [
    {
     "name": "stdout",
     "output_type": "stream",
     "text": [
      "The amount of articles is (both news and opinions): 3436\n"
     ]
    }
   ],
   "source": [
    "# OPEN CSV FILES\n",
    "# This dataset includes news and opinion articles about various companies\n",
    "df = pd.read_csv('data/raw/us_equities_news_dataset.csv')\n",
    "\n",
    "# DROP DUPLICATES\n",
    "df_filtered = df.drop_duplicates(subset=['content'])\n",
    "\n",
    "# DROP ROWS WHERE 'CONTENT' columns has NANS\n",
    "df_filtered = df_filtered.dropna(subset=['content'])\n",
    "\n",
    "# FILTER DATAFRAME ON CONTENT OF EITHER 'NVDA' OR 'NVIDIA'\n",
    "# Check if each row in 'content' column contains the words \"nvda\" or \"nvidia\n",
    "df_filtered_on_content = df_filtered[df_filtered['content'].fillna('').str.contains(\n",
    "    r'\\bnvda\\b|\\bnvidia\\b', case=False, regex=True)]\n",
    "print(f\"The amount of articles is (both news and opinions): {len(df_filtered_on_content)}\")"
   ]
  },
  {
   "cell_type": "code",
   "execution_count": 17,
   "metadata": {},
   "outputs": [],
   "source": [
    "# Save as parquet file\n",
    "df_filtered_on_content.to_parquet('data/processed/filtered_df.parquet')"
   ]
  },
  {
   "cell_type": "markdown",
   "metadata": {},
   "source": [
    "### __Preprocessing Steps:__"
   ]
  },
  {
   "cell_type": "code",
   "execution_count": null,
   "metadata": {},
   "outputs": [
    {
     "name": "stderr",
     "output_type": "stream",
     "text": [
      "/tmp/ipykernel_4576/3958484317.py:4: SettingWithCopyWarning: \n",
      "A value is trying to be set on a copy of a slice from a DataFrame.\n",
      "Try using .loc[row_indexer,col_indexer] = value instead\n",
      "\n",
      "See the caveats in the documentation: https://pandas.pydata.org/pandas-docs/stable/user_guide/indexing.html#returning-a-view-versus-a-copy\n",
      "  df_filtered_on_content.loc[:, 'preprocessed_content'] = convert_to_lowercase(df_filtered_on_content['content'])\n"
     ]
    },
    {
     "data": {
      "text/html": [
       "<div>\n",
       "<style scoped>\n",
       "    .dataframe tbody tr th:only-of-type {\n",
       "        vertical-align: middle;\n",
       "    }\n",
       "\n",
       "    .dataframe tbody tr th {\n",
       "        vertical-align: top;\n",
       "    }\n",
       "\n",
       "    .dataframe thead th {\n",
       "        text-align: right;\n",
       "    }\n",
       "</style>\n",
       "<table border=\"1\" class=\"dataframe\">\n",
       "  <thead>\n",
       "    <tr style=\"text-align: right;\">\n",
       "      <th></th>\n",
       "      <th>id</th>\n",
       "      <th>ticker</th>\n",
       "      <th>title</th>\n",
       "      <th>category</th>\n",
       "      <th>content</th>\n",
       "      <th>release_date</th>\n",
       "      <th>provider</th>\n",
       "      <th>url</th>\n",
       "      <th>article_id</th>\n",
       "      <th>preprocessed_content</th>\n",
       "    </tr>\n",
       "  </thead>\n",
       "  <tbody>\n",
       "    <tr>\n",
       "      <th>24</th>\n",
       "      <td>221539</td>\n",
       "      <td>NIO</td>\n",
       "      <td>A Central Bank War Just Started And Its Good F...</td>\n",
       "      <td>opinion</td>\n",
       "      <td>ECB Effects\\nThe move in the euro was huge  fa...</td>\n",
       "      <td>2019-03-07</td>\n",
       "      <td>Michael Kramer</td>\n",
       "      <td>https://www.investing.com/analysis/a-central-b...</td>\n",
       "      <td>200395687</td>\n",
       "      <td>[ecb, effect, move, euro, huge, falling, pip, ...</td>\n",
       "    </tr>\n",
       "    <tr>\n",
       "      <th>32</th>\n",
       "      <td>221547</td>\n",
       "      <td>NIO</td>\n",
       "      <td>6 Stocks To Watch  Nivida Could Be Falling</td>\n",
       "      <td>opinion</td>\n",
       "      <td>6 Stocks To Watch  March 6 Trading Session\\nSt...</td>\n",
       "      <td>2019-03-06</td>\n",
       "      <td>Michael Kramer</td>\n",
       "      <td>https://www.investing.com/analysis/6-stocks-to...</td>\n",
       "      <td>200394931</td>\n",
       "      <td>[stock, watch, march, trading, session, stock,...</td>\n",
       "    </tr>\n",
       "    <tr>\n",
       "      <th>57</th>\n",
       "      <td>221572</td>\n",
       "      <td>NIO</td>\n",
       "      <td>Stocks   Dow Drops Nearly 400 Points as Apple ...</td>\n",
       "      <td>news</td>\n",
       "      <td>Investing com   A rout in Apple and Facebook  ...</td>\n",
       "      <td>2018-11-19</td>\n",
       "      <td>Investing.com</td>\n",
       "      <td>https://www.investing.com/news/stock-market-ne...</td>\n",
       "      <td>1694042</td>\n",
       "      <td>[rout, apple, facebook, nasdaq, fb, monday, sw...</td>\n",
       "    </tr>\n",
       "    <tr>\n",
       "      <th>78</th>\n",
       "      <td>221593</td>\n",
       "      <td>UBER</td>\n",
       "      <td>The Zacks Analyst Blog Highlights  Advanced Mi...</td>\n",
       "      <td>opinion</td>\n",
       "      <td>For Immediate ReleaseChicago  IL   January 13 ...</td>\n",
       "      <td>2020-01-12</td>\n",
       "      <td>Zacks Investment Research</td>\n",
       "      <td>https://www.investing.com/analysis/the-zacks-a...</td>\n",
       "      <td>200498277</td>\n",
       "      <td>[immediate, releasechicago, il, january, annou...</td>\n",
       "    </tr>\n",
       "    <tr>\n",
       "      <th>82</th>\n",
       "      <td>221597</td>\n",
       "      <td>UBER</td>\n",
       "      <td>The Best Of CES 2020  Revised</td>\n",
       "      <td>opinion</td>\n",
       "      <td>With 4 500 companies bringing their innovation...</td>\n",
       "      <td>2020-01-16</td>\n",
       "      <td>Zacks Investment Research</td>\n",
       "      <td>https://www.investing.com/analysis/the-best-of...</td>\n",
       "      <td>200499164</td>\n",
       "      <td>[company, bringing, innovation, ce, jan, get, ...</td>\n",
       "    </tr>\n",
       "  </tbody>\n",
       "</table>\n",
       "</div>"
      ],
      "text/plain": [
       "        id ticker                                              title category  \\\n",
       "24  221539    NIO  A Central Bank War Just Started And Its Good F...  opinion   \n",
       "32  221547    NIO         6 Stocks To Watch  Nivida Could Be Falling  opinion   \n",
       "57  221572    NIO  Stocks   Dow Drops Nearly 400 Points as Apple ...     news   \n",
       "78  221593   UBER  The Zacks Analyst Blog Highlights  Advanced Mi...  opinion   \n",
       "82  221597   UBER                     The Best Of CES 2020  Revised   opinion   \n",
       "\n",
       "                                              content release_date  \\\n",
       "24  ECB Effects\\nThe move in the euro was huge  fa...   2019-03-07   \n",
       "32  6 Stocks To Watch  March 6 Trading Session\\nSt...   2019-03-06   \n",
       "57  Investing com   A rout in Apple and Facebook  ...   2018-11-19   \n",
       "78  For Immediate ReleaseChicago  IL   January 13 ...   2020-01-12   \n",
       "82  With 4 500 companies bringing their innovation...   2020-01-16   \n",
       "\n",
       "                     provider  \\\n",
       "24             Michael Kramer   \n",
       "32             Michael Kramer   \n",
       "57              Investing.com   \n",
       "78  Zacks Investment Research   \n",
       "82  Zacks Investment Research   \n",
       "\n",
       "                                                  url  article_id  \\\n",
       "24  https://www.investing.com/analysis/a-central-b...   200395687   \n",
       "32  https://www.investing.com/analysis/6-stocks-to...   200394931   \n",
       "57  https://www.investing.com/news/stock-market-ne...     1694042   \n",
       "78  https://www.investing.com/analysis/the-zacks-a...   200498277   \n",
       "82  https://www.investing.com/analysis/the-best-of...   200499164   \n",
       "\n",
       "                                 preprocessed_content  \n",
       "24  [ecb, effect, move, euro, huge, falling, pip, ...  \n",
       "32  [stock, watch, march, trading, session, stock,...  \n",
       "57  [rout, apple, facebook, nasdaq, fb, monday, sw...  \n",
       "78  [immediate, releasechicago, il, january, annou...  \n",
       "82  [company, bringing, innovation, ce, jan, get, ...  "
      ]
     },
     "execution_count": 18,
     "metadata": {},
     "output_type": "execute_result"
    }
   ],
   "source": [
    "# PREPROCESSING CONTENT COLUMN\n",
    "\n",
    "# Convert to lowercase\n",
    "df_filtered_on_content.loc[:, 'preprocessed_content'] = convert_to_lowercase(df_filtered_on_content['content'])\n",
    "\n",
    "# Remove URLs\n",
    "df_filtered_on_content.loc[:, 'preprocessed_content'] = remove_all_urls(df_filtered_on_content['preprocessed_content'])\n",
    "\n",
    "# Remove all words that are not characters\n",
    "df_filtered_on_content.loc[:, 'preprocessed_content'] = remove_non_words_characters(df_filtered_on_content['preprocessed_content'])\n",
    "\n",
    "# Remove digits\n",
    "df_filtered_on_content.loc[:, 'preprocessed_content'] = remove_digits(df_filtered_on_content['preprocessed_content'])\n",
    "\n",
    "# Tokenize words\n",
    "df_filtered_on_content.loc[:, 'preprocessed_content'] = tokenize_words(df_filtered_on_content['preprocessed_content'])\n",
    "\n",
    "# Remove stopwords\n",
    "df_filtered_on_content.loc[:, 'preprocessed_content'] = remove_stopwords(df_filtered_on_content['preprocessed_content'])\n",
    "\n",
    "# Lemmatize words \n",
    "df_filtered_on_content.loc[:, 'preprocessed_content'] = lemmatize(df_filtered_on_content['preprocessed_content'])\n",
    "\n",
    "df_filtered_on_content.head(5)"
   ]
  },
  {
   "cell_type": "markdown",
   "metadata": {},
   "source": [
    "### __Save preprocessed data to parquet__"
   ]
  },
  {
   "cell_type": "code",
   "execution_count": 19,
   "metadata": {},
   "outputs": [],
   "source": [
    "df_filtered_on_content.to_parquet('data/processed/preprocessed_df.parquet')"
   ]
  }
 ],
 "metadata": {
  "kernelspec": {
   "display_name": ".venv",
   "language": "python",
   "name": "python3"
  },
  "language_info": {
   "codemirror_mode": {
    "name": "ipython",
    "version": 3
   },
   "file_extension": ".py",
   "mimetype": "text/x-python",
   "name": "python",
   "nbconvert_exporter": "python",
   "pygments_lexer": "ipython3",
   "version": "3.11.5"
  }
 },
 "nbformat": 4,
 "nbformat_minor": 2
}
